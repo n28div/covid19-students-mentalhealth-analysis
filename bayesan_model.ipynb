{
 "cells": [
  {
   "cell_type": "code",
   "execution_count": 1,
   "id": "b37f094a-d393-4cf0-9516-16cf9e13525b",
   "metadata": {},
   "outputs": [],
   "source": [
    "import pandas as pd\n",
    "from pgmpy.factors.discrete import TabularCPD\n",
    "import numpy as np"
   ]
  },
  {
   "cell_type": "markdown",
   "id": "fb2ee0da-6067-48f7-baf9-5551ba39cb52",
   "metadata": {},
   "source": [
    "# Bayesan network"
   ]
  },
  {
   "cell_type": "markdown",
   "id": "5243c070-4362-4ce1-9c6a-7334ea85c9dd",
   "metadata": {},
   "source": [
    "Let's load the dataset first in order to create a bayesan network."
   ]
  },
  {
   "cell_type": "code",
   "execution_count": 2,
   "id": "afabc237-6926-4edb-a0fd-60aff143f4ec",
   "metadata": {},
   "outputs": [],
   "source": [
    "data = pd.read_csv(\"data.csv\") \\\n",
    "    .rename(columns={\"Unnamed: 0\": \"ISO3\"}) \\\n",
    "    .set_index(\"iso3\")"
   ]
  },
  {
   "cell_type": "code",
   "execution_count": 3,
   "id": "bb4739da-755c-4e80-864f-7ea63344cc0f",
   "metadata": {},
   "outputs": [
    {
     "data": {
      "text/html": [
       "<div>\n",
       "<style scoped>\n",
       "    .dataframe tbody tr th:only-of-type {\n",
       "        vertical-align: middle;\n",
       "    }\n",
       "\n",
       "    .dataframe tbody tr th {\n",
       "        vertical-align: top;\n",
       "    }\n",
       "\n",
       "    .dataframe thead th {\n",
       "        text-align: right;\n",
       "    }\n",
       "</style>\n",
       "<table border=\"1\" class=\"dataframe\">\n",
       "  <thead>\n",
       "    <tr style=\"text-align: right;\">\n",
       "      <th></th>\n",
       "      <th>name</th>\n",
       "      <th>Time</th>\n",
       "      <th>enrolment_primary_female</th>\n",
       "      <th>enrolment_lower-secondary_female</th>\n",
       "      <th>enrolment_upper-secondary_female</th>\n",
       "      <th>enrolment_upper-secondary_male</th>\n",
       "      <th>enrolment_primary_male</th>\n",
       "      <th>enrolment_lower-secondary_male</th>\n",
       "      <th>primary_female</th>\n",
       "      <th>primary_male</th>\n",
       "      <th>...</th>\n",
       "      <th>upper-secondary_female</th>\n",
       "      <th>upper-secondary_male</th>\n",
       "      <th>region</th>\n",
       "      <th>academic_break</th>\n",
       "      <th>closed</th>\n",
       "      <th>open</th>\n",
       "      <th>partially_closed</th>\n",
       "      <th>tv</th>\n",
       "      <th>radio</th>\n",
       "      <th>internet</th>\n",
       "    </tr>\n",
       "    <tr>\n",
       "      <th>iso3</th>\n",
       "      <th></th>\n",
       "      <th></th>\n",
       "      <th></th>\n",
       "      <th></th>\n",
       "      <th></th>\n",
       "      <th></th>\n",
       "      <th></th>\n",
       "      <th></th>\n",
       "      <th></th>\n",
       "      <th></th>\n",
       "      <th></th>\n",
       "      <th></th>\n",
       "      <th></th>\n",
       "      <th></th>\n",
       "      <th></th>\n",
       "      <th></th>\n",
       "      <th></th>\n",
       "      <th></th>\n",
       "      <th></th>\n",
       "      <th></th>\n",
       "      <th></th>\n",
       "    </tr>\n",
       "  </thead>\n",
       "  <tbody>\n",
       "    <tr>\n",
       "      <th>AFG</th>\n",
       "      <td>Afghanistan</td>\n",
       "      <td>2018.0</td>\n",
       "      <td>2549573.0</td>\n",
       "      <td>708606.0</td>\n",
       "      <td>367543.0</td>\n",
       "      <td>713477.0</td>\n",
       "      <td>3995333.0</td>\n",
       "      <td>1274263.0</td>\n",
       "      <td>2549573.0</td>\n",
       "      <td>3995333.0</td>\n",
       "      <td>...</td>\n",
       "      <td>1289337.0</td>\n",
       "      <td>1360804.0</td>\n",
       "      <td>South Asia</td>\n",
       "      <td>32.0</td>\n",
       "      <td>115.0</td>\n",
       "      <td>55.0</td>\n",
       "      <td>33.0</td>\n",
       "      <td>True</td>\n",
       "      <td>True</td>\n",
       "      <td>True</td>\n",
       "    </tr>\n",
       "    <tr>\n",
       "      <th>ALB</th>\n",
       "      <td>Albania</td>\n",
       "      <td>2019.0</td>\n",
       "      <td>79342.0</td>\n",
       "      <td>65721.0</td>\n",
       "      <td>54469.0</td>\n",
       "      <td>62177.0</td>\n",
       "      <td>87762.0</td>\n",
       "      <td>73705.0</td>\n",
       "      <td>79342.0</td>\n",
       "      <td>87762.0</td>\n",
       "      <td>...</td>\n",
       "      <td>59256.0</td>\n",
       "      <td>66593.0</td>\n",
       "      <td>Eastern Europe and Central Asia</td>\n",
       "      <td>77.0</td>\n",
       "      <td>41.0</td>\n",
       "      <td>92.0</td>\n",
       "      <td>25.0</td>\n",
       "      <td>True</td>\n",
       "      <td>True</td>\n",
       "      <td>True</td>\n",
       "    </tr>\n",
       "    <tr>\n",
       "      <th>AIA</th>\n",
       "      <td>Anguilla</td>\n",
       "      <td>2019.0</td>\n",
       "      <td>745.0</td>\n",
       "      <td>306.0</td>\n",
       "      <td>187.0</td>\n",
       "      <td>199.0</td>\n",
       "      <td>767.0</td>\n",
       "      <td>320.0</td>\n",
       "      <td>745.0</td>\n",
       "      <td>767.0</td>\n",
       "      <td>...</td>\n",
       "      <td>197.0</td>\n",
       "      <td>200.0</td>\n",
       "      <td>Latin America and Caribbean</td>\n",
       "      <td>62.0</td>\n",
       "      <td>20.0</td>\n",
       "      <td>93.0</td>\n",
       "      <td>60.0</td>\n",
       "      <td>False</td>\n",
       "      <td>False</td>\n",
       "      <td>False</td>\n",
       "    </tr>\n",
       "    <tr>\n",
       "      <th>ATG</th>\n",
       "      <td>Antigua and Barbuda</td>\n",
       "      <td>2018.0</td>\n",
       "      <td>4981.0</td>\n",
       "      <td>2236.0</td>\n",
       "      <td>1576.0</td>\n",
       "      <td>1425.0</td>\n",
       "      <td>5142.0</td>\n",
       "      <td>2619.0</td>\n",
       "      <td>4981.0</td>\n",
       "      <td>5142.0</td>\n",
       "      <td>...</td>\n",
       "      <td>1576.0</td>\n",
       "      <td>1425.0</td>\n",
       "      <td>Latin America and Caribbean</td>\n",
       "      <td>64.0</td>\n",
       "      <td>78.0</td>\n",
       "      <td>2.0</td>\n",
       "      <td>91.0</td>\n",
       "      <td>True</td>\n",
       "      <td>False</td>\n",
       "      <td>False</td>\n",
       "    </tr>\n",
       "    <tr>\n",
       "      <th>ARG</th>\n",
       "      <td>Argentina</td>\n",
       "      <td>2018.0</td>\n",
       "      <td>2345904.0</td>\n",
       "      <td>1349677.0</td>\n",
       "      <td>949778.0</td>\n",
       "      <td>880337.0</td>\n",
       "      <td>2430548.0</td>\n",
       "      <td>1402392.0</td>\n",
       "      <td>2345904.0</td>\n",
       "      <td>2430548.0</td>\n",
       "      <td>...</td>\n",
       "      <td>1041265.0</td>\n",
       "      <td>1077217.0</td>\n",
       "      <td>Latin America and Caribbean</td>\n",
       "      <td>33.0</td>\n",
       "      <td>111.0</td>\n",
       "      <td>3.0</td>\n",
       "      <td>88.0</td>\n",
       "      <td>True</td>\n",
       "      <td>True</td>\n",
       "      <td>True</td>\n",
       "    </tr>\n",
       "  </tbody>\n",
       "</table>\n",
       "<p>5 rows × 22 columns</p>\n",
       "</div>"
      ],
      "text/plain": [
       "                     name    Time  enrolment_primary_female  \\\n",
       "iso3                                                          \n",
       "AFG           Afghanistan  2018.0                 2549573.0   \n",
       "ALB               Albania  2019.0                   79342.0   \n",
       "AIA              Anguilla  2019.0                     745.0   \n",
       "ATG   Antigua and Barbuda  2018.0                    4981.0   \n",
       "ARG             Argentina  2018.0                 2345904.0   \n",
       "\n",
       "      enrolment_lower-secondary_female  enrolment_upper-secondary_female  \\\n",
       "iso3                                                                       \n",
       "AFG                           708606.0                          367543.0   \n",
       "ALB                            65721.0                           54469.0   \n",
       "AIA                              306.0                             187.0   \n",
       "ATG                             2236.0                            1576.0   \n",
       "ARG                          1349677.0                          949778.0   \n",
       "\n",
       "      enrolment_upper-secondary_male  enrolment_primary_male  \\\n",
       "iso3                                                           \n",
       "AFG                         713477.0               3995333.0   \n",
       "ALB                          62177.0                 87762.0   \n",
       "AIA                            199.0                   767.0   \n",
       "ATG                           1425.0                  5142.0   \n",
       "ARG                         880337.0               2430548.0   \n",
       "\n",
       "      enrolment_lower-secondary_male  primary_female  primary_male  ...  \\\n",
       "iso3                                                                ...   \n",
       "AFG                        1274263.0       2549573.0     3995333.0  ...   \n",
       "ALB                          73705.0         79342.0       87762.0  ...   \n",
       "AIA                            320.0           745.0         767.0  ...   \n",
       "ATG                           2619.0          4981.0        5142.0  ...   \n",
       "ARG                        1402392.0       2345904.0     2430548.0  ...   \n",
       "\n",
       "      upper-secondary_female  upper-secondary_male  \\\n",
       "iso3                                                 \n",
       "AFG                1289337.0             1360804.0   \n",
       "ALB                  59256.0               66593.0   \n",
       "AIA                    197.0                 200.0   \n",
       "ATG                   1576.0                1425.0   \n",
       "ARG                1041265.0             1077217.0   \n",
       "\n",
       "                               region  academic_break closed  open  \\\n",
       "iso3                                                                 \n",
       "AFG                        South Asia            32.0  115.0  55.0   \n",
       "ALB   Eastern Europe and Central Asia            77.0   41.0  92.0   \n",
       "AIA       Latin America and Caribbean            62.0   20.0  93.0   \n",
       "ATG       Latin America and Caribbean            64.0   78.0   2.0   \n",
       "ARG       Latin America and Caribbean            33.0  111.0   3.0   \n",
       "\n",
       "      partially_closed     tv  radio  internet  \n",
       "iso3                                            \n",
       "AFG               33.0   True   True      True  \n",
       "ALB               25.0   True   True      True  \n",
       "AIA               60.0  False  False     False  \n",
       "ATG               91.0   True  False     False  \n",
       "ARG               88.0   True   True      True  \n",
       "\n",
       "[5 rows x 22 columns]"
      ]
     },
     "execution_count": 3,
     "metadata": {},
     "output_type": "execute_result"
    }
   ],
   "source": [
    "data.head()"
   ]
  },
  {
   "cell_type": "markdown",
   "id": "f7f46d48-4a3f-4d9b-9a2d-14288b667ec5",
   "metadata": {},
   "source": [
    "We are going to use the following network structure.\n",
    "\n",
    "Red characters represents abbreviations that will be used in the code."
   ]
  },
  {
   "cell_type": "markdown",
   "id": "792c2e54-d92b-4fa8-aab0-ec39147bcbf8",
   "metadata": {},
   "source": [
    "<img src=\"education_network.jpg\" alt=\"Bayesan Network Sketch\" width=\"600\"/>"
   ]
  },
  {
   "cell_type": "code",
   "execution_count": 4,
   "id": "c637d1cd-d3dd-474a-8c10-d4a55e0902dc",
   "metadata": {},
   "outputs": [],
   "source": [
    "state_names = {\n",
    "    \"Country\": list(data.index),\n",
    "    \"Gender\": [\"male\", \"female\"],\n",
    "    \"Region\": list(data[\"region\"].sort_values().unique()),\n",
    "    \"Education\": [\"primary\", \"lower-secondary\", \"upper-secondary\"],\n",
    "    \"AtHome\": [\"yes\", \"no\"],\n",
    "    \"RadioReach\": [\"yes\", \"no\"],\n",
    "    \"InternetReach\": [\"yes\", \"no\"],\n",
    "    \"TvReach\": [\"yes\", \"no\"],\n",
    "    \"RadioMeasure\": [\"yes\", \"no\"],\n",
    "    \"InternetMeasure\": [\"yes\", \"no\"],\n",
    "    \"TvMeasure\": [\"yes\", \"no\"]\n",
    "}"
   ]
  },
  {
   "cell_type": "markdown",
   "id": "aa1c3317-4a88-4fee-82d5-940456573f1f",
   "metadata": {},
   "source": [
    "### Create CPDs"
   ]
  },
  {
   "cell_type": "markdown",
   "id": "c2f89a6e-6ea3-4975-8e68-90eebb1ca136",
   "metadata": {},
   "source": [
    "#### $P(R)$\n",
    "\n",
    "Probability of being in a region, $P(Region)$, can be computed as\n",
    "\n",
    "$$P(R = x) = \\frac{Child_x}{\\sum\\limits_{r \\in regions} Population_r}$$\n",
    "\n",
    "with $x$ being a particular region."
   ]
  },
  {
   "cell_type": "code",
   "execution_count": 6,
   "id": "a1abe321-d692-467b-82ab-0859e4c4503a",
   "metadata": {
    "tags": []
   },
   "outputs": [],
   "source": [
    "male_columns = [\"primary_male\", \"lower-secondary_male\", \"upper-secondary_male\"]\n",
    "female_columns = [\"primary_female\", \"lower-secondary_female\", \"upper-secondary_female\"]\n",
    "school_pop_cols = male_columns + female_columns\n",
    "\n",
    "region_population = data.groupby([\"region\"]).sum()[school_pop_cols].sum(axis=1)\n",
    "p_in_region = region_population / region_population.sum()"
   ]
  },
  {
   "cell_type": "code",
   "execution_count": 7,
   "id": "f871fceb-3cf0-471b-b0ab-aa9ccf63add8",
   "metadata": {},
   "outputs": [],
   "source": [
    "cpd_Region = TabularCPD(variable=\"Region\", \n",
    "                   variable_card=p_in_region.count(), \n",
    "                   values=np.array([[x] for x in p_in_region.to_numpy()]),\n",
    "                   state_names=state_names)"
   ]
  },
  {
   "cell_type": "markdown",
   "id": "37e3357f-82a9-4282-8112-48d544ae70e1",
   "metadata": {},
   "source": [
    "#### $P(C | R)$\n",
    "Then we build the CPD of a child being in a country, $P(Country | Region)$, which depends on the region he is from.\n",
    "\n",
    "Given $x$ an arbitrary country and $r$ a region\n",
    "$$P(C = x | R = r) = \\frac{population_x}{population_r}$$"
   ]
  },
  {
   "cell_type": "code",
   "execution_count": 8,
   "id": "6eb09df7-18da-4c9b-bbfd-4c5d40b6f335",
   "metadata": {},
   "outputs": [],
   "source": [
    "school_age_per_country = data[school_pop_cols].sum(axis=1)\n",
    "p_in_country = school_age_per_country / school_age_per_country.sum()\n",
    "\n",
    "regions = data[\"region\"].sort_values().unique()\n",
    "p_in_country = pd.DataFrame(data=np.zeros((len(data.index), len(regions))),\n",
    "                            index=data.index,\n",
    "                            columns=regions)\n",
    "for region in regions:\n",
    "    countries_in_region = data[\"region\"] == region\n",
    "    p_in_country.loc[countries_in_region, region] = school_age_per_country[countries_in_region]\n",
    "    p_in_country[region] = p_in_country[region].div(region_population[region])"
   ]
  },
  {
   "cell_type": "code",
   "execution_count": 9,
   "id": "a9e6be61-1a76-4bf5-b8b1-11465db9628d",
   "metadata": {},
   "outputs": [],
   "source": [
    "cpd_Country = TabularCPD(variable=\"Country\", \n",
    "                         variable_card=len(data.index),\n",
    "                         values=p_in_country.to_numpy(),\n",
    "                         evidence=[\"Region\"],\n",
    "                         evidence_card=[len(regions)],\n",
    "                         state_names=state_names)"
   ]
  },
  {
   "cell_type": "markdown",
   "id": "4920bceb-f95f-4904-b297-664a236b84c8",
   "metadata": {},
   "source": [
    "#### $P(G | C)$\n",
    "\n",
    "Computing the probability of being a male or a female, $P(Gender)$, depends on the country the child is living in.\n",
    "We can compute the probability of being male in a country $x$ as\n",
    "$$\n",
    "\\begin{align*}\n",
    "P(G = male | C = x) &= \\frac{P(G = male, C = x)}{P(C = x)} \\\\\n",
    "&= \\frac{Males_x}{\\sum\\limits_{c \\in countries} population_c}\n",
    "\\end{align*}\n",
    "$$\n",
    "and probability of being female as $1 - P(G = male | C = x)$."
   ]
  },
  {
   "cell_type": "code",
   "execution_count": 10,
   "id": "d50b3c3b-fd1a-4ce2-b5fd-7730a4f08d09",
   "metadata": {},
   "outputs": [],
   "source": [
    "p_male = data[male_columns].sum(axis=1) / school_age_per_country\n",
    "p_female = 1 - p_male"
   ]
  },
  {
   "cell_type": "code",
   "execution_count": 11,
   "id": "ae559111-9b28-48eb-af96-40330256a8ba",
   "metadata": {},
   "outputs": [],
   "source": [
    "cpd_Gender = TabularCPD(variable=\"Gender\", \n",
    "                   variable_card=2, # male, female\n",
    "                   values=np.array([p_male, p_female]),\n",
    "                   evidence=[\"Country\"],\n",
    "                   evidence_card=[p_male.count()],\n",
    "                   state_names=state_names)"
   ]
  },
  {
   "cell_type": "markdown",
   "id": "7b7e4674-6c29-467f-87c7-69659930cee3",
   "metadata": {},
   "source": [
    "#### $P(E | G, C)$\n",
    "\n",
    "Probability $P(E)$ of being in a particular education depends on gender and country.\n",
    "\n",
    "The probability of a male child in primary school in a country $x$ is\n",
    "\n",
    "$$\n",
    "\\begin{align*}\n",
    "P(E = primary\\text{-}school | G = male, C = x) &= \\frac{P(E = primary\\text{-}school, G = male, C = x)}{P(G = male, C = x)} \\\\\n",
    "&= \\frac{MaleInPrimarySchool_x}{\\sum\\limits_{c \\in countries} MaleInPrimarySchool_c} \\frac{1}{P(G = male, C = x)}\n",
    "\\end{align*}\n",
    "$$"
   ]
  },
  {
   "cell_type": "markdown",
   "id": "ae28372a-432c-4e4f-9702-5f4adfd4e40e",
   "metadata": {},
   "source": [
    "Conditional probability table is defined as\n",
    "\n",
    "| male |  |  |  | female |  |  |  |\n",
    "|---|---|---|---|---|---|---|---|\n",
    "| primary | lower-secondary | upper-secondary | out-of-school | primary | lower-secondary | upper-secondary | out-of-school |\n",
    "| $C_1 \\cdots C_n$ | $C_1 \\cdots C_n$ | $C_1 \\cdots C_n$ | $C_1 \\cdots C_n$ | $C_1 \\cdots C_n$ | $C_1 \\cdots C_n$ | $C_1 \\cdots C_n$ | $C_1 \\cdots C_n$ |"
   ]
  },
  {
   "cell_type": "code",
   "execution_count": 12,
   "id": "e71fcd14-a120-499d-9ec8-fa7d901a6586",
   "metadata": {},
   "outputs": [],
   "source": [
    "education_columns = [\"primary\", \"lower-secondary\", \"upper-secondary\"]\n",
    "enrolment_columns = [\"enrolment_\" + c for c in education_columns]\n",
    "\n",
    "male_education_columns = [c + \"_male\" for c in education_columns]\n",
    "male_enrolment_columns = [c + \"_male\" for c in enrolment_columns]\n",
    "female_education_columns = [c + \"_female\" for c in education_columns]\n",
    "female_enrolment_columns = [c + \"_female\" for c in enrolment_columns]"
   ]
  },
  {
   "cell_type": "markdown",
   "id": "70d1feb3-ee57-45cd-9001-1c8b1956b1c9",
   "metadata": {},
   "source": [
    "If we perform the computation we end up with some weird results: some countries have a probability of child being in school higher than $1$.\n",
    "This is because of rounding approximations in the values computation so we simply change those probabilities to sum up to 1."
   ]
  },
  {
   "cell_type": "code",
   "execution_count": 13,
   "id": "56980e74-4c7f-4a52-907c-a254926ac4c9",
   "metadata": {},
   "outputs": [],
   "source": [
    "education_male = data[male_enrolment_columns].div(data[male_enrolment_columns].sum(axis=1), axis=\"index\")\n",
    "approx_err_idx = education_male.sum(axis=1) > 1\n",
    "education_male[approx_err_idx] = education_male[approx_err_idx].div(education_male[approx_err_idx].sum(axis=1), axis=\"index\")\n",
    "\n",
    "education_female = data[female_enrolment_columns].div(data[female_enrolment_columns].sum(axis=1), axis=\"index\")\n",
    "approx_err_idx = education_female.sum(axis=1) > 1\n",
    "education_female[approx_err_idx] = education_female[approx_err_idx].div(education_female[approx_err_idx].sum(axis=1), axis=\"index\")"
   ]
  },
  {
   "cell_type": "code",
   "execution_count": 14,
   "id": "7c0acee1-7b94-443b-9c74-cf5391f625ca",
   "metadata": {},
   "outputs": [],
   "source": [
    "cpd_Education = TabularCPD(variable=\"Education\", \n",
    "                   variable_card=3, # primary, lower secondary, upper secondary\n",
    "                   # append education_female columns to education_male ones\n",
    "                   values=np.c_[education_male.transpose().to_numpy(), education_female.transpose().to_numpy()],\n",
    "                   evidence=[\"Gender\", \"Country\"],\n",
    "                   evidence_card=[\n",
    "                       2, # gender\n",
    "                       len(data.index) # countries\n",
    "                   ],\n",
    "                   state_names=state_names)"
   ]
  },
  {
   "cell_type": "markdown",
   "id": "555e441e-2fe1-43b2-8255-7580c533915f",
   "metadata": {},
   "source": [
    "#### $P(AtHome | C)$\n",
    "\n",
    "Probability of staying at home $P(AtHome)$ because school was closed depends only the country.\n",
    "The probability of living in country x and of being at home is\n",
    "\n",
    "$$P(AtHome = yes | C = x) = \\frac{P(AtHome = yes, C = x)}{P(C = x)} = \\frac{DaysAtHome_x}{SchoolDays_x}$$"
   ]
  },
  {
   "cell_type": "code",
   "execution_count": 15,
   "id": "4da1f9ba-7e93-41fc-b9a8-a313c5a3922f",
   "metadata": {},
   "outputs": [],
   "source": [
    "at_home_cols = [\"closed\", \"partially_closed\"]\n",
    "tot_school_days = [\"closed\", \"open\", \"partially_closed\"]\n",
    "p_at_home = data[at_home_cols].sum(axis=1).div(data[tot_school_days].sum(axis=1))\n",
    "p_at_school = 1 - p_at_home"
   ]
  },
  {
   "cell_type": "code",
   "execution_count": 16,
   "id": "9f9a3bbd-be54-4913-a41b-c34f41a33b5e",
   "metadata": {},
   "outputs": [],
   "source": [
    "cpd_AtHome = TabularCPD(variable=\"AtHome\", \n",
    "                        variable_card=2, \n",
    "                        values=np.array([p_at_home, p_at_school]),\n",
    "                        evidence=[\"Country\"],\n",
    "                        evidence_card=[len(data.index)],\n",
    "                        state_names=state_names)"
   ]
  },
  {
   "cell_type": "markdown",
   "id": "e5b5cf76-e022-470f-987c-86e6fe37198c",
   "metadata": {},
   "source": [
    "#### Media reachability\n",
    "\n",
    "Probability of being reached by a media platform can't be modeled as a unique CPD as values intersects and we cannot disaggregate them.\n",
    "Because of this we compute 3 different probability distributions: $P(Internet)$, $P(Radio)$, $P(Tv)$.\n",
    "\n",
    "Each of them, for instance $P(Internet)$, can be computed as\n",
    "\n",
    "$$\n",
    "\\begin{align*}\n",
    "P(I = yes | E = primary, R = x) &= \\frac{P(MR = internet, E = primary, R = x)}{P(E = primary, R = x)} \\\\\n",
    "& = \\frac{PrimaryReachedByInternet_x}{\\sum\\limits_{r \\in regions} PrimaryReachedByInternet_r}\n",
    "\\end{align*}\n",
    "$$\n",
    "\n",
    "with $x$ being a certain region."
   ]
  },
  {
   "cell_type": "code",
   "execution_count": 17,
   "id": "f817f8ca-8a66-4c36-9b98-577224905bd5",
   "metadata": {},
   "outputs": [],
   "source": [
    "media = pd.read_csv(\"media.csv\") \\\n",
    "    .rename(columns={\"Unnamed: 0\": \"region\"}) \\\n",
    "    .set_index(\"region\")"
   ]
  },
  {
   "cell_type": "markdown",
   "id": "8c604cef-e594-4d65-aff5-2035239b2055",
   "metadata": {},
   "source": [
    "Unfortunately we don't have enough data all over the world."
   ]
  },
  {
   "cell_type": "code",
   "execution_count": 18,
   "id": "17ad89ee-1e7b-4750-9b8f-5503326e736e",
   "metadata": {},
   "outputs": [
    {
     "name": "stdout",
     "output_type": "stream",
     "text": [
      "Western Europe is absent\n",
      "North America is absent\n"
     ]
    }
   ],
   "source": [
    "missing_regions = list()\n",
    "for r in data[\"region\"].unique():\n",
    "    if r not in media.index.unique():\n",
    "        print(r, \"is absent\")\n",
    "        missing_regions.append(r)"
   ]
  },
  {
   "cell_type": "markdown",
   "id": "3bb31fa6-5151-4524-a645-176c96799dd3",
   "metadata": {},
   "source": [
    "If we check which regions are missing, though, we can see that realistically they're regions rich enough in which we can safely assume that radio, internet and television accessibility is widespread in each country and therefore each student can receive education from these media types."
   ]
  },
  {
   "cell_type": "code",
   "execution_count": 19,
   "id": "f732de4b-da76-488c-915c-09f5fa6e54a8",
   "metadata": {},
   "outputs": [],
   "source": [
    "education_columns = [[\"enrolment_primary_male\", \"enrolment_primary_female\"], \n",
    "                     [\"enrolment_lower-secondary_male\", \"enrolment_lower-secondary_female\"], \n",
    "                     [\"enrolment_upper-secondary_male\", \"enrolment_lower-secondary_female\"]]\n",
    "\n",
    "data_region = data.groupby(\"region\").sum()\n",
    "data_region = pd.DataFrame(\n",
    "    data=data_region[male_enrolment_columns].to_numpy() + data_region[female_enrolment_columns].to_numpy(),\n",
    "    index=data_region.index\n",
    ")"
   ]
  },
  {
   "cell_type": "code",
   "execution_count": 31,
   "id": "de8e45dc-5234-4375-8858-1e6630b44777",
   "metadata": {},
   "outputs": [],
   "source": [
    "# internet\n",
    "media_columns = [c for c in media.columns if \"internet\" in c]\n",
    "p_internet = (media[media_columns] / data_region.rename(columns={i: c for i, c in enumerate(media_columns)})).transpose()\n",
    "p_internet[p_internet.isna()] = 1\n",
    "p_internet = p_internet.to_numpy().flatten()\n",
    "\n",
    "cpd_InternetReach = TabularCPD(variable=\"InternetReach\", \n",
    "                   variable_card=2, # yes, no\n",
    "                   values=np.array([p_internet, 1 - p_internet]),\n",
    "                   evidence=[\"Education\", \"Region\"],\n",
    "                   evidence_card=[3, len(data_region.index)],\n",
    "                   state_names=state_names)"
   ]
  },
  {
   "cell_type": "code",
   "execution_count": 32,
   "id": "de94c7a4-882a-42ad-a9af-09bd322b51f7",
   "metadata": {},
   "outputs": [],
   "source": [
    "# radio\n",
    "media_columns = [c for c in media.columns if \"radio\" in c]\n",
    "p_radio = (media[media_columns] / data_region.rename(columns={i: c for i, c in enumerate(media_columns)})).transpose()\n",
    "p_radio[p_radio.isna()] = 1\n",
    "p_radio = p_radio.to_numpy().flatten()\n",
    "\n",
    "cpd_RadioReach = TabularCPD(variable=\"RadioReach\", \n",
    "                    variable_card=2, # yes, no\n",
    "                    values=np.array([p_radio, 1 - p_radio]),\n",
    "                    evidence=[\"Education\", \"Region\"],\n",
    "                    evidence_card=[3, len(data_region.index)],\n",
    "                    state_names=state_names)"
   ]
  },
  {
   "cell_type": "code",
   "execution_count": 33,
   "id": "59aede90-4114-4ceb-98e9-a7138decb86b",
   "metadata": {},
   "outputs": [],
   "source": [
    "# tv\n",
    "media_columns = [c for c in media.columns if \"tv\" in c]\n",
    "p_tv = (media[media_columns] / data_region.rename(columns={i: c for i, c in enumerate(media_columns)})).transpose()\n",
    "p_tv[p_tv.isna()] = 1\n",
    "p_tv = p_tv.to_numpy().flatten()\n",
    "\n",
    "cpd_TvReach = TabularCPD(variable=\"TvReach\", \n",
    "                    variable_card=2, # yes, no\n",
    "                    values=np.array([p_tv, 1 - p_tv]),\n",
    "                    evidence=[\"Education\", \"Region\"],\n",
    "                    evidence_card=[3, len(data_region.index)],\n",
    "                    state_names=state_names)"
   ]
  },
  {
   "cell_type": "markdown",
   "id": "c3610c26-bd54-45b7-b61b-abcff338d3e0",
   "metadata": {},
   "source": [
    "#### Measures implemented\n",
    "Last we build the probability distribution of a certain measure being taken in different countries.\n",
    "Measures includes distant learning by Radio, Television and Internet so we will compute 3 different probability distributions."
   ]
  },
  {
   "cell_type": "code",
   "execution_count": 34,
   "id": "10bafce1-6240-452b-b644-d6b8be9f05af",
   "metadata": {},
   "outputs": [],
   "source": [
    "p_internet = data[\"internet\"].astype(float)\n",
    "cpd_InternetMeasure = TabularCPD(variable=\"InternetMeasure\", \n",
    "                                 variable_card=2, # yes, no\n",
    "                                 values=np.array([p_internet, 1 - p_internet]),\n",
    "                                 evidence=[\"Country\"],\n",
    "                                 evidence_card=[len(data.index)],\n",
    "                                 state_names=state_names)"
   ]
  },
  {
   "cell_type": "code",
   "execution_count": 35,
   "id": "231f1b90-e3fa-4414-a219-a8519734cf29",
   "metadata": {},
   "outputs": [],
   "source": [
    "p_radio = data[\"radio\"].astype(float)\n",
    "cpd_RadioMeasure = TabularCPD(variable=\"RadioMeasure\", \n",
    "                              variable_card=2, # yes, no\n",
    "                              values=np.array([p_radio, 1 - p_radio]),\n",
    "                              evidence=[\"Country\"],\n",
    "                              evidence_card=[len(data.index)],\n",
    "                              state_names=state_names)"
   ]
  },
  {
   "cell_type": "code",
   "execution_count": 36,
   "id": "8a4873ec-76b2-4e74-a7f6-ce4555d7be15",
   "metadata": {},
   "outputs": [],
   "source": [
    "p_tv = data[\"tv\"].astype(float)\n",
    "cpd_TvMeasure = TabularCPD(variable=\"TvMeasure\", \n",
    "                           variable_card=2, # yes, no\n",
    "                           values=np.array([p_internet, 1 - p_internet]),\n",
    "                           evidence=[\"Country\"],\n",
    "                           evidence_card=[len(data.index)],\n",
    "                           state_names=state_names)"
   ]
  },
  {
   "cell_type": "markdown",
   "id": "16a571bc-e1fb-4b6d-b00f-09c23cec2a2f",
   "metadata": {},
   "source": [
    "### Model"
   ]
  },
  {
   "cell_type": "code",
   "execution_count": 37,
   "id": "e056ab80-08e7-49d1-9fb7-8765389970f4",
   "metadata": {},
   "outputs": [],
   "source": [
    "from pgmpy.models import BayesianModel\n",
    "\n",
    "model = BayesianModel([(\"Region\", \"Country\"),\n",
    "                       (\"Country\", \"Gender\"), (\"Country\", \"AtHome\"),\n",
    "                       (\"Country\", \"TvMeasure\"), (\"Country\", \"InternetMeasure\"), (\"Country\", \"RadioMeasure\"),\n",
    "                       (\"Country\", \"Education\"), (\"Gender\", \"Education\"),\n",
    "                       (\"Region\", \"InternetReach\"), (\"Region\", \"RadioReach\"), (\"Region\", \"TvReach\"),\n",
    "                       (\"Education\", \"InternetReach\"), (\"Education\", \"RadioReach\"), (\"Education\", \"TvReach\")\n",
    "                      ])"
   ]
  },
  {
   "cell_type": "code",
   "execution_count": 38,
   "id": "993ad8a6-5b32-48a8-afd8-52f4ecf35e5a",
   "metadata": {},
   "outputs": [],
   "source": [
    "model.add_cpds(cpd_Region, cpd_Country, \n",
    "               cpd_Gender, cpd_AtHome,\n",
    "               cpd_TvMeasure, cpd_InternetMeasure, cpd_RadioMeasure,\n",
    "               cpd_Education,\n",
    "               cpd_InternetReach, cpd_RadioReach, cpd_TvReach)"
   ]
  },
  {
   "cell_type": "code",
   "execution_count": 39,
   "id": "18d34372-defd-4090-b1ac-00a3b693f115",
   "metadata": {},
   "outputs": [
    {
     "data": {
      "text/plain": [
       "True"
      ]
     },
     "execution_count": 39,
     "metadata": {},
     "output_type": "execute_result"
    }
   ],
   "source": [
    "model.check_model()"
   ]
  },
  {
   "cell_type": "markdown",
   "id": "97e95e19-d729-4691-8b5c-9027b8cd25f3",
   "metadata": {},
   "source": [
    "### Inference\n",
    "\n",
    "We can now perform the inference steps and see if we can discover some interesting insights from the data.\n",
    "We will do that by using the `VariableElimination` inference method."
   ]
  },
  {
   "cell_type": "code",
   "execution_count": 40,
   "id": "8976873f-abe8-48d5-86a7-cc7dc97616d8",
   "metadata": {},
   "outputs": [],
   "source": [
    "from pgmpy.inference import VariableElimination\n",
    "infer = VariableElimination(model)"
   ]
  },
  {
   "cell_type": "markdown",
   "id": "5e83f651-43fc-4b73-b863-f1cc6a5e15ed",
   "metadata": {},
   "source": [
    "We can see, for example, the world-wide probability of being at home in the registered period. "
   ]
  },
  {
   "cell_type": "code",
   "execution_count": 41,
   "id": "b6d9ac10-d9c0-4ad9-a8f0-8cd0e4887d3c",
   "metadata": {},
   "outputs": [
    {
     "name": "stdout",
     "output_type": "stream",
     "text": [
      "+-------------+---------------+\n",
      "| AtHome      |   phi(AtHome) |\n",
      "+=============+===============+\n",
      "| AtHome(yes) |        0.8031 |\n",
      "+-------------+---------------+\n",
      "| AtHome(no)  |        0.1969 |\n",
      "+-------------+---------------+\n"
     ]
    }
   ],
   "source": [
    "print(infer.query([\"AtHome\"], show_progress=False))"
   ]
  },
  {
   "cell_type": "markdown",
   "id": "d10f134c-9fbe-491d-b7fe-ec8fc7e73e2c",
   "metadata": {},
   "source": [
    "We can see it by regions by plotting it using a stacked bar chart."
   ]
  },
  {
   "cell_type": "code",
   "execution_count": 42,
   "id": "219be7c0-b317-458b-a0bf-06ebbb6bc7ea",
   "metadata": {},
   "outputs": [],
   "source": [
    "p = dict()\n",
    "for region in regions:\n",
    "    p[region] = infer.query([\"AtHome\"], evidence={\"Region\": region}, show_progress=False)"
   ]
  },
  {
   "cell_type": "code",
   "execution_count": 43,
   "id": "09cf5485-82b7-482b-aa0d-c3b624f80493",
   "metadata": {},
   "outputs": [
    {
     "data": {
      "image/png": "[encoded data removed]",
      "text/plain": [
       "<Figure size 576x360 with 1 Axes>"
      ]
     },
     "metadata": {
      "needs_background": "light"
     },
     "output_type": "display_data"
    }
   ],
   "source": [
    "import matplotlib.pyplot as plt\n",
    "plt.figure(figsize=(8, 5))\n",
    "plt.barh(regions, [1 for x in p.values()], label=\"$P(\\\\neg AtHome)$\")\n",
    "plt.barh(regions, [x.values[0] for x in p.values()], label=\"$P(AtHome)$\")\n",
    "plt.axvline(x=.5, ymin=0, ymax=1, color=\"red\", label=\"P(AtHome) = 0.5\")\n",
    "plt.title(\"Probability of staying at home by region from 03/2020 to $\\\\approx$ 03/2021\")\n",
    "plt.legend()\n",
    "plt.show()"
   ]
  },
  {
   "cell_type": "markdown",
   "id": "a453c755-ec62-4dda-92d5-52da0d59e759",
   "metadata": {},
   "source": [
    "We could also compute it by country, but the visualization would be higlhy cluttered, so it's better to use a more powerful tool."
   ]
  },
  {
   "cell_type": "markdown",
   "id": "4313841d-2707-4a5d-9db0-05230569f091",
   "metadata": {},
   "source": [
    "We can check what is the probability of implementing distant learning using internet"
   ]
  },
  {
   "cell_type": "code",
   "execution_count": 44,
   "id": "8cc94ad0-6d76-4821-a605-4339bb73f70b",
   "metadata": {},
   "outputs": [
    {
     "name": "stdout",
     "output_type": "stream",
     "text": [
      "+----------------------+------------------------+\n",
      "| InternetMeasure      |   phi(InternetMeasure) |\n",
      "+======================+========================+\n",
      "| InternetMeasure(yes) |                 0.9388 |\n",
      "+----------------------+------------------------+\n",
      "| InternetMeasure(no)  |                 0.0612 |\n",
      "+----------------------+------------------------+\n"
     ]
    }
   ],
   "source": [
    "print(infer.query([\"InternetMeasure\"], show_progress=False))"
   ]
  },
  {
   "cell_type": "markdown",
   "id": "7e816976-92b9-46b8-833d-51accdf80c5f",
   "metadata": {},
   "source": [
    "we can also check what is the probability of being reached by an internet connection"
   ]
  },
  {
   "cell_type": "code",
   "execution_count": 45,
   "id": "ccc354cf-6396-4b02-bf02-8fec70128a43",
   "metadata": {},
   "outputs": [
    {
     "name": "stdout",
     "output_type": "stream",
     "text": [
      "+--------------------+----------------------+\n",
      "| InternetReach      |   phi(InternetReach) |\n",
      "+====================+======================+\n",
      "| InternetReach(yes) |               0.3288 |\n",
      "+--------------------+----------------------+\n",
      "| InternetReach(no)  |               0.6712 |\n",
      "+--------------------+----------------------+\n"
     ]
    }
   ],
   "source": [
    "print(infer.query([\"InternetReach\"], show_progress=False))"
   ]
  },
  {
   "cell_type": "markdown",
   "id": "f6b9999e-ae47-418c-8e21-07dcd0b2dacb",
   "metadata": {},
   "source": [
    "and we can combine the two to see what is the probability of being unable to use distant learning through internet, even though the country is actually providing it"
   ]
  },
  {
   "cell_type": "code",
   "execution_count": 47,
   "id": "3d490d27-9704-4254-a0cb-1f8b30c304c6",
   "metadata": {},
   "outputs": [
    {
     "name": "stdout",
     "output_type": "stream",
     "text": [
      "+----------------------+--------------------+--------------------------------------+\n",
      "| InternetMeasure      | InternetReach      |   phi(InternetMeasure,InternetReach) |\n",
      "+======================+====================+======================================+\n",
      "| InternetMeasure(yes) | InternetReach(yes) |                               0.3182 |\n",
      "+----------------------+--------------------+--------------------------------------+\n",
      "| InternetMeasure(yes) | InternetReach(no)  |                               0.6206 |\n",
      "+----------------------+--------------------+--------------------------------------+\n",
      "| InternetMeasure(no)  | InternetReach(yes) |                               0.0106 |\n",
      "+----------------------+--------------------+--------------------------------------+\n",
      "| InternetMeasure(no)  | InternetReach(no)  |                               0.0506 |\n",
      "+----------------------+--------------------+--------------------------------------+\n"
     ]
    }
   ],
   "source": [
    "print(infer.query([\"InternetMeasure\", \"InternetReach\"], show_progress=False))"
   ]
  },
  {
   "cell_type": "markdown",
   "id": "01f69b04-c064-4efc-b3c2-74132fb05a8a",
   "metadata": {},
   "source": [
    "in fact it is $0.62$, quite high!"
   ]
  },
  {
   "cell_type": "markdown",
   "id": "3e82b4b6-437c-44fc-8714-263afcf76718",
   "metadata": {},
   "source": [
    "We can of course see if that is the case for all the measures.\n",
    "The output would be quite confusing however to inspect, so for instance let's check what is the probability of not being able to use \n",
    "any distant learning measure."
   ]
  },
  {
   "cell_type": "code",
   "execution_count": 48,
   "id": "1e1ab5ca-644e-4ec8-9a78-92ba347ca830",
   "metadata": {},
   "outputs": [
    {
     "name": "stdout",
     "output_type": "stream",
     "text": [
      "p(phi) = 0.133222\n"
     ]
    }
   ],
   "source": [
    "x = infer.query([\"InternetReach\"], show_progress=False).values[1]\n",
    "x *= infer.query([\"RadioReach\"], show_progress=False).values[1]\n",
    "x *= infer.query([\"TvReach\"], show_progress=False).values[1]\n",
    "print(\"p(phi) = %f\" % x)"
   ]
  },
  {
   "cell_type": "markdown",
   "id": "3e66108a-9df8-435b-b961-0f709d265d86",
   "metadata": {},
   "source": [
    "We can see how this probability changes in different regions"
   ]
  },
  {
   "cell_type": "code",
   "execution_count": 49,
   "id": "73747ea7-aafe-414e-ab3b-7aa6e61d1f33",
   "metadata": {},
   "outputs": [],
   "source": [
    "p = dict()\n",
    "for region in regions:\n",
    "    p[region] = infer.query([\"InternetReach\"], evidence={\"Region\": region}, show_progress=False).values[1]\n",
    "    p[region] *= infer.query([\"RadioReach\"], evidence={\"Region\": region}, show_progress=False).values[1]\n",
    "    p[region] *= infer.query([\"TvReach\"], evidence={\"Region\": region}, show_progress=False).values[1]"
   ]
  },
  {
   "cell_type": "code",
   "execution_count": 50,
   "id": "714b6f5f-d56b-4755-b14e-f34f27929f8c",
   "metadata": {},
   "outputs": [
    {
     "data": {
      "image/png": "[encoded data removed]",
      "text/plain": [
       "<Figure size 576x360 with 1 Axes>"
      ]
     },
     "metadata": {
      "needs_background": "light"
     },
     "output_type": "display_data"
    }
   ],
   "source": [
    "plt.figure(figsize=(8, 5))\n",
    "plt.barh(regions, [1 for x in p.values()], label=\"$P(Reached)$\")\n",
    "plt.barh(regions, [x for x in p.values()], label=\"$P(\\\\neg Reached)$\")\n",
    "plt.title(\"Probability of not being reached by any media\")\n",
    "plt.legend()\n",
    "plt.show()"
   ]
  },
  {
   "cell_type": "markdown",
   "id": "3c2b2c7d-b072-4ba6-a87e-add205221990",
   "metadata": {},
   "source": [
    "The probability of not being reached by any media is quite high in non-developed regions"
   ]
  },
  {
   "cell_type": "markdown",
   "id": "bbdd3471-4b0f-4f7b-a726-8eaacd070bfd",
   "metadata": {},
   "source": [
    "We can also express some more complex queries, for example the gender probability distribution in countries which are only reached by radio media, which is an adopted distant learning measure."
   ]
  },
  {
   "cell_type": "code",
   "execution_count": 51,
   "id": "bbdef263-9afb-4b2f-81a6-4fc89cff4807",
   "metadata": {},
   "outputs": [
    {
     "name": "stdout",
     "output_type": "stream",
     "text": [
      "+----------------+---------------+\n",
      "| Gender         |   phi(Gender) |\n",
      "+================+===============+\n",
      "| Gender(male)   |        0.5077 |\n",
      "+----------------+---------------+\n",
      "| Gender(female) |        0.4923 |\n",
      "+----------------+---------------+\n"
     ]
    }
   ],
   "source": [
    "print(infer.query([\"Gender\"], \n",
    "                  evidence={\"RadioReach\": \"yes\", \"TvReach\": \"no\", \"InternetReach\": \"no\", \"RadioMeasure\": \"yes\"}, \n",
    "                  show_progress=False))"
   ]
  },
  {
   "cell_type": "markdown",
   "id": "7b3a1625-cfae-419f-a4e4-fb4635d2bf49",
   "metadata": {},
   "source": [
    "Or we could see the probability of being at a certain education level, staying at home and not being able to be reached by any distant learning measure at all. "
   ]
  },
  {
   "cell_type": "code",
   "execution_count": 52,
   "id": "9837adc4-74cf-4dde-8c6e-7995205e3a01",
   "metadata": {},
   "outputs": [
    {
     "name": "stdout",
     "output_type": "stream",
     "text": [
      "+----------------------------+------------------+\n",
      "| Education                  |   phi(Education) |\n",
      "+============================+==================+\n",
      "| Education(primary)         |           0.6157 |\n",
      "+----------------------------+------------------+\n",
      "| Education(lower-secondary) |           0.2362 |\n",
      "+----------------------------+------------------+\n",
      "| Education(upper-secondary) |           0.1481 |\n",
      "+----------------------------+------------------+\n"
     ]
    }
   ],
   "source": [
    "print(infer.query([\"Education\"], \n",
    "                  evidence={\"RadioReach\": \"no\", \"TvReach\": \"no\", \"InternetReach\": \"no\", \"AtHome\": \"yes\"}, \n",
    "                  show_progress=False))"
   ]
  },
  {
   "cell_type": "markdown",
   "id": "26cd5f0d-959f-475d-a034-2ca49949b9e7",
   "metadata": {},
   "source": [
    "We can also make use of the bayesian network to perform some predictions, for instance, which is the media that is most probable to reach children?"
   ]
  },
  {
   "cell_type": "code",
   "execution_count": 53,
   "id": "51602823-3ac2-4de8-ba08-8b01a0e53d4f",
   "metadata": {},
   "outputs": [
    {
     "name": "stdout",
     "output_type": "stream",
     "text": [
      "{'RadioReach': 'no', 'InternetReach': 'no', 'TvReach': 'yes'}\n"
     ]
    }
   ],
   "source": [
    "print(infer.map_query([\"RadioReach\", \"InternetReach\", \"TvReach\"], show_progress=False))"
   ]
  },
  {
   "cell_type": "markdown",
   "id": "e37694dc-9117-460a-8d81-cd84f75787ee",
   "metadata": {},
   "source": [
    "As we can see using television as a distant learning tool is the best way to reach everyone.\n",
    "\n",
    "We can check if it is different for different regions"
   ]
  },
  {
   "cell_type": "code",
   "execution_count": 60,
   "id": "1532a911-f2d4-4dae-bc44-25690e69bb16",
   "metadata": {},
   "outputs": [
    {
     "data": {
      "text/html": [
       "<style  type=\"text/css\" >\n",
       "#T_e8f8f_row0_col0,#T_e8f8f_row0_col1,#T_e8f8f_row1_col0,#T_e8f8f_row2_col0,#T_e8f8f_row2_col1,#T_e8f8f_row2_col2,#T_e8f8f_row4_col0,#T_e8f8f_row4_col1,#T_e8f8f_row6_col0,#T_e8f8f_row6_col1,#T_e8f8f_row7_col0,#T_e8f8f_row7_col1,#T_e8f8f_row7_col2{\n",
       "            color:  red;\n",
       "        }#T_e8f8f_row0_col2,#T_e8f8f_row1_col1,#T_e8f8f_row1_col2,#T_e8f8f_row3_col0,#T_e8f8f_row3_col1,#T_e8f8f_row3_col2,#T_e8f8f_row4_col2,#T_e8f8f_row5_col0,#T_e8f8f_row5_col1,#T_e8f8f_row5_col2,#T_e8f8f_row6_col2,#T_e8f8f_row8_col0,#T_e8f8f_row8_col1,#T_e8f8f_row8_col2{\n",
       "            color:  green;\n",
       "        }</style><table id=\"T_e8f8f_\" ><thead>    <tr>        <th class=\"blank level0\" ></th>        <th class=\"col_heading level0 col0\" >radio</th>        <th class=\"col_heading level0 col1\" >internet</th>        <th class=\"col_heading level0 col2\" >tv</th>    </tr></thead><tbody>\n",
       "                <tr>\n",
       "                        <th id=\"T_e8f8f_level0_row0\" class=\"row_heading level0 row0\" >East Asia and Pacific</th>\n",
       "                        <td id=\"T_e8f8f_row0_col0\" class=\"data row0 col0\" >no</td>\n",
       "                        <td id=\"T_e8f8f_row0_col1\" class=\"data row0 col1\" >no</td>\n",
       "                        <td id=\"T_e8f8f_row0_col2\" class=\"data row0 col2\" >yes</td>\n",
       "            </tr>\n",
       "            <tr>\n",
       "                        <th id=\"T_e8f8f_level0_row1\" class=\"row_heading level0 row1\" >Eastern Europe and Central Asia</th>\n",
       "                        <td id=\"T_e8f8f_row1_col0\" class=\"data row1 col0\" >no</td>\n",
       "                        <td id=\"T_e8f8f_row1_col1\" class=\"data row1 col1\" >yes</td>\n",
       "                        <td id=\"T_e8f8f_row1_col2\" class=\"data row1 col2\" >yes</td>\n",
       "            </tr>\n",
       "            <tr>\n",
       "                        <th id=\"T_e8f8f_level0_row2\" class=\"row_heading level0 row2\" >Eastern and Southern Africa</th>\n",
       "                        <td id=\"T_e8f8f_row2_col0\" class=\"data row2 col0\" >no</td>\n",
       "                        <td id=\"T_e8f8f_row2_col1\" class=\"data row2 col1\" >no</td>\n",
       "                        <td id=\"T_e8f8f_row2_col2\" class=\"data row2 col2\" >no</td>\n",
       "            </tr>\n",
       "            <tr>\n",
       "                        <th id=\"T_e8f8f_level0_row3\" class=\"row_heading level0 row3\" >Latin America and Caribbean</th>\n",
       "                        <td id=\"T_e8f8f_row3_col0\" class=\"data row3 col0\" >yes</td>\n",
       "                        <td id=\"T_e8f8f_row3_col1\" class=\"data row3 col1\" >yes</td>\n",
       "                        <td id=\"T_e8f8f_row3_col2\" class=\"data row3 col2\" >yes</td>\n",
       "            </tr>\n",
       "            <tr>\n",
       "                        <th id=\"T_e8f8f_level0_row4\" class=\"row_heading level0 row4\" >Middle East and North Africa</th>\n",
       "                        <td id=\"T_e8f8f_row4_col0\" class=\"data row4 col0\" >no</td>\n",
       "                        <td id=\"T_e8f8f_row4_col1\" class=\"data row4 col1\" >no</td>\n",
       "                        <td id=\"T_e8f8f_row4_col2\" class=\"data row4 col2\" >yes</td>\n",
       "            </tr>\n",
       "            <tr>\n",
       "                        <th id=\"T_e8f8f_level0_row5\" class=\"row_heading level0 row5\" >North America</th>\n",
       "                        <td id=\"T_e8f8f_row5_col0\" class=\"data row5 col0\" >yes</td>\n",
       "                        <td id=\"T_e8f8f_row5_col1\" class=\"data row5 col1\" >yes</td>\n",
       "                        <td id=\"T_e8f8f_row5_col2\" class=\"data row5 col2\" >yes</td>\n",
       "            </tr>\n",
       "            <tr>\n",
       "                        <th id=\"T_e8f8f_level0_row6\" class=\"row_heading level0 row6\" >South Asia</th>\n",
       "                        <td id=\"T_e8f8f_row6_col0\" class=\"data row6 col0\" >no</td>\n",
       "                        <td id=\"T_e8f8f_row6_col1\" class=\"data row6 col1\" >no</td>\n",
       "                        <td id=\"T_e8f8f_row6_col2\" class=\"data row6 col2\" >yes</td>\n",
       "            </tr>\n",
       "            <tr>\n",
       "                        <th id=\"T_e8f8f_level0_row7\" class=\"row_heading level0 row7\" >West and Central Africa</th>\n",
       "                        <td id=\"T_e8f8f_row7_col0\" class=\"data row7 col0\" >no</td>\n",
       "                        <td id=\"T_e8f8f_row7_col1\" class=\"data row7 col1\" >no</td>\n",
       "                        <td id=\"T_e8f8f_row7_col2\" class=\"data row7 col2\" >no</td>\n",
       "            </tr>\n",
       "            <tr>\n",
       "                        <th id=\"T_e8f8f_level0_row8\" class=\"row_heading level0 row8\" >Western Europe</th>\n",
       "                        <td id=\"T_e8f8f_row8_col0\" class=\"data row8 col0\" >yes</td>\n",
       "                        <td id=\"T_e8f8f_row8_col1\" class=\"data row8 col1\" >yes</td>\n",
       "                        <td id=\"T_e8f8f_row8_col2\" class=\"data row8 col2\" >yes</td>\n",
       "            </tr>\n",
       "    </tbody></table>"
      ],
      "text/plain": [
       "<pandas.io.formats.style.Styler at 0x7f6860a31ca0>"
      ]
     },
     "execution_count": 60,
     "metadata": {},
     "output_type": "execute_result"
    }
   ],
   "source": [
    "df = pd.DataFrame(index=regions,\n",
    "                  columns=[\"radio\", \"internet\", \"tv\"],\n",
    "                  data=np.zeros((len(regions), 3)))\n",
    "\n",
    "for region in regions:\n",
    "    x = infer.map_query([\"RadioReach\", \"InternetReach\", \"TvReach\"], evidence={\"Region\": region}, show_progress=False)\n",
    "    df.loc[region, \"internet\"] = x[\"InternetReach\"]\n",
    "    df.loc[region, \"radio\"] = x[\"RadioReach\"]\n",
    "    df.loc[region, \"tv\"] = x[\"TvReach\"]\n",
    "\n",
    "df = df.style.applymap(lambda x: \"color: red\" if str(x) == \"no\" else \"color: green\")\n",
    "df"
   ]
  },
  {
   "cell_type": "markdown",
   "id": "17f12b52-4e9e-4d9b-bceb-57c4b927de37",
   "metadata": {},
   "source": [
    "We can also predict which measures has been taken for different education levels"
   ]
  },
  {
   "cell_type": "code",
   "execution_count": 67,
   "id": "7455fbb5-c424-417c-ac57-1272950ef0ec",
   "metadata": {},
   "outputs": [
    {
     "name": "stdout",
     "output_type": "stream",
     "text": [
      "primary {'InternetMeasure': 'yes', 'RadioMeasure': 'no', 'TvMeasure': 'yes'}\n",
      "lower-secondary {'InternetMeasure': 'yes', 'RadioMeasure': 'no', 'TvMeasure': 'yes'}\n",
      "upper-secondary {'InternetMeasure': 'yes', 'RadioMeasure': 'no', 'TvMeasure': 'yes'}\n"
     ]
    }
   ],
   "source": [
    "for education in [\"primary\", \"lower-secondary\", \"upper-secondary\"]:\n",
    "    x = infer.map_query([\"InternetMeasure\", \"RadioMeasure\", \"TvMeasure\"], evidence={\"Education\": education}, show_progress=False)\n",
    "    print(education, x)"
   ]
  }
 ],
 "metadata": {
  "kernelspec": {
   "display_name": "Python 3",
   "language": "python",
   "name": "python3"
  },
  "language_info": {
   "codemirror_mode": {
    "name": "ipython",
    "version": 3
   },
   "file_extension": ".py",
   "mimetype": "text/x-python",
   "name": "python",
   "nbconvert_exporter": "python",
   "pygments_lexer": "ipython3",
   "version": "3.8.8"
  }
 },
 "nbformat": 4,
 "nbformat_minor": 5
}
