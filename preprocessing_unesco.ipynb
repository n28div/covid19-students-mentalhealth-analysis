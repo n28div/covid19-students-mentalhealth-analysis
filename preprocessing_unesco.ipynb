{
 "cells": [
  {
   "cell_type": "code",
   "execution_count": 1,
   "id": "af184bb5-2318-40cf-983c-24ca9c8ae1bb",
   "metadata": {},
   "outputs": [],
   "source": [
    "import pandas as pd\n",
    "import numpy as np\n",
    "DATA_DIRECTORY = \"data_unesco/\""
   ]
  },
  {
   "cell_type": "markdown",
   "id": "5a69e819-a334-4c74-8d42-5e5db25b3df5",
   "metadata": {},
   "source": [
    "## Data import"
   ]
  },
  {
   "cell_type": "code",
   "execution_count": 2,
   "id": "6106549f-40ac-4bfa-ad48-664eada7241d",
   "metadata": {},
   "outputs": [],
   "source": [
    "data = pd.DataFrame()"
   ]
  },
  {
   "cell_type": "markdown",
   "id": "f1322740-afe4-4a51-83d6-6470118ca4c6",
   "metadata": {},
   "source": [
    "We begin by importing data about country location based on ISO definition \n",
    "\n",
    "*data from https://data.unicef.org/wp-content/uploads/2017/05/JME-regional-classifications-15May-2017.xlsx*"
   ]
  },
  {
   "cell_type": "code",
   "execution_count": 3,
   "id": "1eb397f4-302b-46fb-9e3a-b7af11ba2541",
   "metadata": {},
   "outputs": [
    {
     "data": {
      "text/html": [
       "<div>\n",
       "<style scoped>\n",
       "    .dataframe tbody tr th:only-of-type {\n",
       "        vertical-align: middle;\n",
       "    }\n",
       "\n",
       "    .dataframe tbody tr th {\n",
       "        vertical-align: top;\n",
       "    }\n",
       "\n",
       "    .dataframe thead th {\n",
       "        text-align: right;\n",
       "    }\n",
       "</style>\n",
       "<table border=\"1\" class=\"dataframe\">\n",
       "  <thead>\n",
       "    <tr style=\"text-align: right;\">\n",
       "      <th></th>\n",
       "      <th>name</th>\n",
       "      <th>alpha-2</th>\n",
       "      <th>alpha-3</th>\n",
       "      <th>country-code</th>\n",
       "      <th>iso_3166-2</th>\n",
       "      <th>region</th>\n",
       "      <th>sub-region</th>\n",
       "      <th>intermediate-region</th>\n",
       "      <th>region-code</th>\n",
       "      <th>sub-region-code</th>\n",
       "      <th>intermediate-region-code</th>\n",
       "    </tr>\n",
       "  </thead>\n",
       "  <tbody>\n",
       "    <tr>\n",
       "      <th>0</th>\n",
       "      <td>Afghanistan</td>\n",
       "      <td>AF</td>\n",
       "      <td>AFG</td>\n",
       "      <td>4</td>\n",
       "      <td>ISO 3166-2:AF</td>\n",
       "      <td>Asia</td>\n",
       "      <td>Southern Asia</td>\n",
       "      <td>NaN</td>\n",
       "      <td>142.0</td>\n",
       "      <td>34.0</td>\n",
       "      <td>NaN</td>\n",
       "    </tr>\n",
       "    <tr>\n",
       "      <th>1</th>\n",
       "      <td>Åland Islands</td>\n",
       "      <td>AX</td>\n",
       "      <td>ALA</td>\n",
       "      <td>248</td>\n",
       "      <td>ISO 3166-2:AX</td>\n",
       "      <td>Europe</td>\n",
       "      <td>Northern Europe</td>\n",
       "      <td>NaN</td>\n",
       "      <td>150.0</td>\n",
       "      <td>154.0</td>\n",
       "      <td>NaN</td>\n",
       "    </tr>\n",
       "    <tr>\n",
       "      <th>2</th>\n",
       "      <td>Albania</td>\n",
       "      <td>AL</td>\n",
       "      <td>ALB</td>\n",
       "      <td>8</td>\n",
       "      <td>ISO 3166-2:AL</td>\n",
       "      <td>Europe</td>\n",
       "      <td>Southern Europe</td>\n",
       "      <td>NaN</td>\n",
       "      <td>150.0</td>\n",
       "      <td>39.0</td>\n",
       "      <td>NaN</td>\n",
       "    </tr>\n",
       "    <tr>\n",
       "      <th>3</th>\n",
       "      <td>Algeria</td>\n",
       "      <td>DZ</td>\n",
       "      <td>DZA</td>\n",
       "      <td>12</td>\n",
       "      <td>ISO 3166-2:DZ</td>\n",
       "      <td>Africa</td>\n",
       "      <td>Northern Africa</td>\n",
       "      <td>NaN</td>\n",
       "      <td>2.0</td>\n",
       "      <td>15.0</td>\n",
       "      <td>NaN</td>\n",
       "    </tr>\n",
       "  </tbody>\n",
       "</table>\n",
       "</div>"
      ],
      "text/plain": [
       "            name alpha-2 alpha-3  country-code     iso_3166-2  region  \\\n",
       "0    Afghanistan      AF     AFG             4  ISO 3166-2:AF    Asia   \n",
       "1  Åland Islands      AX     ALA           248  ISO 3166-2:AX  Europe   \n",
       "2        Albania      AL     ALB             8  ISO 3166-2:AL  Europe   \n",
       "3        Algeria      DZ     DZA            12  ISO 3166-2:DZ  Africa   \n",
       "\n",
       "        sub-region intermediate-region  region-code  sub-region-code  \\\n",
       "0    Southern Asia                 NaN        142.0             34.0   \n",
       "1  Northern Europe                 NaN        150.0            154.0   \n",
       "2  Southern Europe                 NaN        150.0             39.0   \n",
       "3  Northern Africa                 NaN          2.0             15.0   \n",
       "\n",
       "   intermediate-region-code  \n",
       "0                       NaN  \n",
       "1                       NaN  \n",
       "2                       NaN  \n",
       "3                       NaN  "
      ]
     },
     "execution_count": 3,
     "metadata": {},
     "output_type": "execute_result"
    }
   ],
   "source": [
    "df = pd.read_csv(DATA_DIRECTORY + \"country_naming.csv\")\n",
    "df.head(4)"
   ]
  },
  {
   "cell_type": "markdown",
   "id": "a5b98a6a-4d0e-4c02-93cd-95b8ccc14b12",
   "metadata": {},
   "source": [
    "We need the country name, in the `name` column, the *ISO3* code, in the `alpha-3` column and the region, in `sub-region` column.\n",
    "The *ISO3* code will be used data."
   ]
  },
  {
   "cell_type": "code",
   "execution_count": 4,
   "id": "f2d30442-ab70-4bcc-832e-2f8522eebbc3",
   "metadata": {},
   "outputs": [
    {
     "data": {
      "text/html": [
       "<div>\n",
       "<style scoped>\n",
       "    .dataframe tbody tr th:only-of-type {\n",
       "        vertical-align: middle;\n",
       "    }\n",
       "\n",
       "    .dataframe tbody tr th {\n",
       "        vertical-align: top;\n",
       "    }\n",
       "\n",
       "    .dataframe thead th {\n",
       "        text-align: right;\n",
       "    }\n",
       "</style>\n",
       "<table border=\"1\" class=\"dataframe\">\n",
       "  <thead>\n",
       "    <tr style=\"text-align: right;\">\n",
       "      <th></th>\n",
       "      <th>name</th>\n",
       "    </tr>\n",
       "    <tr>\n",
       "      <th>iso3</th>\n",
       "      <th></th>\n",
       "    </tr>\n",
       "  </thead>\n",
       "  <tbody>\n",
       "    <tr>\n",
       "      <th>AFG</th>\n",
       "      <td>Afghanistan</td>\n",
       "    </tr>\n",
       "    <tr>\n",
       "      <th>ALA</th>\n",
       "      <td>Åland Islands</td>\n",
       "    </tr>\n",
       "    <tr>\n",
       "      <th>ALB</th>\n",
       "      <td>Albania</td>\n",
       "    </tr>\n",
       "    <tr>\n",
       "      <th>DZA</th>\n",
       "      <td>Algeria</td>\n",
       "    </tr>\n",
       "    <tr>\n",
       "      <th>ASM</th>\n",
       "      <td>American Samoa</td>\n",
       "    </tr>\n",
       "    <tr>\n",
       "      <th>AND</th>\n",
       "      <td>Andorra</td>\n",
       "    </tr>\n",
       "    <tr>\n",
       "      <th>AGO</th>\n",
       "      <td>Angola</td>\n",
       "    </tr>\n",
       "    <tr>\n",
       "      <th>AIA</th>\n",
       "      <td>Anguilla</td>\n",
       "    </tr>\n",
       "    <tr>\n",
       "      <th>ATA</th>\n",
       "      <td>Antarctica</td>\n",
       "    </tr>\n",
       "    <tr>\n",
       "      <th>ATG</th>\n",
       "      <td>Antigua and Barbuda</td>\n",
       "    </tr>\n",
       "  </tbody>\n",
       "</table>\n",
       "</div>"
      ],
      "text/plain": [
       "                     name\n",
       "iso3                     \n",
       "AFG           Afghanistan\n",
       "ALA         Åland Islands\n",
       "ALB               Albania\n",
       "DZA               Algeria\n",
       "ASM        American Samoa\n",
       "AND               Andorra\n",
       "AGO                Angola\n",
       "AIA              Anguilla\n",
       "ATA            Antarctica\n",
       "ATG   Antigua and Barbuda"
      ]
     },
     "execution_count": 4,
     "metadata": {},
     "output_type": "execute_result"
    }
   ],
   "source": [
    "data[\"name\"] = df[\"name\"]\n",
    "data[\"iso3\"] = df[\"alpha-3\"]\n",
    "data = data.set_index(\"iso3\")\n",
    "country_to_iso = dict(zip(data.name, data.index))\n",
    "data.head(10)"
   ]
  },
  {
   "cell_type": "markdown",
   "id": "a7038277-74aa-4d18-a07c-c2a8c7be99f9",
   "metadata": {},
   "source": [
    "We now load information about students in each countries.\n",
    "\n",
    "*data from http://data.uis.unesco.org/#*"
   ]
  },
  {
   "cell_type": "code",
   "execution_count": 5,
   "id": "4aafa300-7a44-4913-86b4-fcc07f84062c",
   "metadata": {},
   "outputs": [],
   "source": [
    "df = pd.read_csv(DATA_DIRECTORY + \"uis_school_statistics.csv\").iloc[:, [1, 2, 5, 6]]\n",
    "df_unique_year = df.copy() \\\n",
    "    .drop_duplicates([\"LOCATION\", \"Time\"], keep=\"last\") \\\n",
    "    .set_index(\"LOCATION\") \\\n",
    "    .iloc[:, [1]]\n",
    "\n",
    "grouped = df.groupby([\"Time\"])\n",
    "indicators = df[\"Indicator\"].unique()\n",
    "for year, idxs in grouped.groups.items():\n",
    "    year_df = df.iloc[idxs, :].set_index(\"LOCATION\")\n",
    "    \n",
    "    for indicator in indicators:\n",
    "        uyi = df_unique_year[\"Time\"] == year\n",
    "        yi = year_df[\"Indicator\"] == indicator\n",
    "        df_unique_year.loc[uyi, indicator] = year_df.loc[yi, \"Value\"]\n",
    "\n",
    "df = df_unique_year.dropna() \\\n",
    "    .rename(columns={\n",
    "        \"Enrolment in primary education, female (number)\": \"enrolment_primary_female\",\n",
    "        \"Enrolment in lower secondary education, female (number)\": \"enrolment_lower-secondary_female\",\n",
    "        \"Enrolment in upper secondary education, female (number)\": \"enrolment_upper-secondary_female\",\n",
    "        \"Enrolment in upper secondary education, male (number)\": \"enrolment_upper-secondary_male\",\n",
    "        \"Enrolment in primary education, male (number)\": \"enrolment_primary_male\",\n",
    "        \"Enrolment in lower secondary education, male (number)\": \"enrolment_lower-secondary_male\",\n",
    "        \"School age population, primary education, female (number)\": \"primary_female\",\n",
    "        \"School age population, primary education, male (number)\": \"primary_male\",\n",
    "        \"School age population, lower secondary education, female (number)\": \"lower-secondary_female\",\n",
    "        \"School age population, lower secondary education, male (number)\": \"lower-secondary_male\",\n",
    "        \"School age population, upper secondary education, female (number)\": \"upper-secondary_female\",\n",
    "        \"School age population, upper secondary education, male (number)\": \"upper-secondary_male\"\n",
    "    }) \\\n",
    "    .reset_index() \\\n",
    "    .sort_values([\"LOCATION\", \"Time\"]) \\\n",
    "    .drop_duplicates([\"LOCATION\"], keep=\"last\") \\\n",
    "    .set_index(\"LOCATION\")"
   ]
  },
  {
   "cell_type": "code",
   "execution_count": 6,
   "id": "7407af29-f7b9-4ca3-8ada-d4b3fd4870ef",
   "metadata": {},
   "outputs": [],
   "source": [
    "data = data.join(df)"
   ]
  },
  {
   "cell_type": "markdown",
   "id": "b4e6b011-ea7f-4649-a6e8-3340c5f6487e",
   "metadata": {},
   "source": [
    "We now join to the dataframe data on how many days of school have been lost by each country.\n",
    "\n",
    "*Data from https://data.unicef.org/resources/one-year-of-covid-19-and-school-closures/*"
   ]
  },
  {
   "cell_type": "code",
   "execution_count": 7,
   "id": "4f870a50-298b-4b18-8199-b397d9901df2",
   "metadata": {},
   "outputs": [],
   "source": [
    "df = pd.read_excel(DATA_DIRECTORY + \"school_closure.xlsx\", sheet_name=\"Country data\", header=13, nrows=200) \\\n",
    "    .set_index(\"ISO3\") \\\n",
    "    .iloc[:, [1, 3, 4, 5, 6]] \\\n",
    "    .rename(columns={\"UNICEF Region\": \"region\",\n",
    "                     \"Days: Academic break\": \"academic_break\", \n",
    "                     \"Days: Fully closed\": \"closed\",\n",
    "                     \"Days: Fully open\": \"open\",\n",
    "                     \"Days:  Partially closed\": \"partially_closed\"})"
   ]
  },
  {
   "cell_type": "code",
   "execution_count": 8,
   "id": "afc5a156-d471-480d-9006-d48b262b0dde",
   "metadata": {},
   "outputs": [],
   "source": [
    "data = data.join(df)"
   ]
  },
  {
   "cell_type": "markdown",
   "id": "adea0987-f611-4c4a-8f28-67d0974085d3",
   "metadata": {},
   "source": [
    "Then we insert into our dataset the measures taken in delivering education by each country (from http://covid19.uis.unesco.org/joint-covid-r3/, suitably modified to obtain a faster computation).\n",
    "We extract mainly if a measure as been applied for each education level and for each media measure.\n",
    "\n",
    "Media measures are online, television, radio, mobile phones, home packages."
   ]
  },
  {
   "cell_type": "code",
   "execution_count": 9,
   "id": "55aa8829-1890-4e77-bfda-757328836dd3",
   "metadata": {},
   "outputs": [],
   "source": [
    "df = pd.read_excel(DATA_DIRECTORY + \"countries_response.xlsx\", sheet_name=\"database\", header=0) \\\n",
    "        .set_index(\"Country ID\")"
   ]
  },
  {
   "cell_type": "code",
   "execution_count": 10,
   "id": "27e738f9-8fff-4095-9d0c-7949a90f749d",
   "metadata": {},
   "outputs": [],
   "source": [
    "modality_rename = {\n",
    "    \"Distance learning modalities (TV)\": \"tv\",\n",
    "    \"Distance learning modalities (Radio)\": \"radio\",\n",
    "    \"Distance learning modalities (Online)\": \"internet\"\n",
    "}\n",
    "\n",
    "df = df[list(modality_rename.keys())].rename(columns=modality_rename) == \"Yes\""
   ]
  },
  {
   "cell_type": "code",
   "execution_count": 11,
   "id": "ab287c98-ca0a-4a1b-93d2-c5aaf5cebeac",
   "metadata": {},
   "outputs": [],
   "source": [
    "data = data.join(df)"
   ]
  },
  {
   "cell_type": "markdown",
   "id": "fcd2bd5b-68e4-476a-95ac-ae963bffca32",
   "metadata": {},
   "source": [
    "If we have some missing data, we are simply going to remove those rows."
   ]
  },
  {
   "cell_type": "code",
   "execution_count": 12,
   "id": "ac2b5b35-37bd-486b-a617-fb9070e7c390",
   "metadata": {},
   "outputs": [],
   "source": [
    "missing_data = data.isna().any(axis=1)\n",
    "removed_countries = data[missing_data == True][\"name\"]\n",
    "data = data[missing_data == False]"
   ]
  },
  {
   "cell_type": "code",
   "execution_count": 13,
   "id": "1d3eba50-1210-412e-a8b8-ff8106a314ee",
   "metadata": {},
   "outputs": [
    {
     "name": "stdout",
     "output_type": "stream",
     "text": [
      "Removed countries:\n",
      "Åland Islands\n",
      "Algeria\n",
      "American Samoa\n",
      "Andorra\n",
      "Angola\n",
      "Antarctica\n",
      "Aruba\n",
      "Bahamas\n",
      "Bermuda\n",
      "Bonaire, Sint Eustatius and Saba\n",
      "Bosnia and Herzegovina\n",
      "Botswana\n",
      "Bouvet Island\n",
      "British Indian Ocean Territory\n",
      "Cambodia\n",
      "Cayman Islands\n",
      "Christmas Island\n",
      "Cocos (Keeling) Islands\n",
      "Congo\n",
      "Curaçao\n",
      "Equatorial Guinea\n",
      "Falkland Islands (Malvinas)\n",
      "Faroe Islands\n",
      "Fiji\n",
      "French Guiana\n",
      "French Polynesia\n",
      "French Southern Territories\n",
      "Gabon\n",
      "Gambia\n",
      "Gibraltar\n",
      "Greenland\n",
      "Guadeloupe\n",
      "Guam\n",
      "Guernsey\n",
      "Guinea-Bissau\n",
      "Guyana\n",
      "Haiti\n",
      "Heard Island and McDonald Islands\n",
      "Holy See\n",
      "Hong Kong\n",
      "Iraq\n",
      "Isle of Man\n",
      "Jamaica\n",
      "Japan\n",
      "Jersey\n",
      "Kenya\n",
      "Kiribati\n",
      "Korea (Democratic People's Republic of)\n",
      "Kuwait\n",
      "Lebanon\n",
      "Libya\n",
      "Macao\n",
      "Martinique\n",
      "Mayotte\n",
      "Micronesia (Federated States of)\n",
      "Monaco\n",
      "Namibia\n",
      "New Caledonia\n",
      "Nicaragua\n",
      "Norfolk Island\n",
      "Northern Mariana Islands\n",
      "Paraguay\n",
      "Pitcairn\n",
      "Puerto Rico\n",
      "Réunion\n",
      "Saint Barthélemy\n",
      "Saint Helena, Ascension and Tristan da Cunha\n",
      "Saint Martin (French part)\n",
      "Saint Pierre and Miquelon\n",
      "Sint Maarten (Dutch part)\n",
      "Solomon Islands\n",
      "Somalia\n",
      "South Georgia and the South Sandwich Islands\n",
      "Svalbard and Jan Mayen\n",
      "Syrian Arab Republic\n",
      "Taiwan, Province of China\n",
      "Tajikistan\n",
      "Trinidad and Tobago\n",
      "Uganda\n",
      "United States Minor Outlying Islands\n",
      "Viet Nam\n",
      "Virgin Islands (U.S.)\n",
      "Wallis and Futuna\n",
      "Western Sahara\n",
      "Zambia\n",
      "Zimbabwe\n"
     ]
    }
   ],
   "source": [
    "print(\"Removed countries:\")\n",
    "for c in removed_countries:\n",
    "    print(c)"
   ]
  },
  {
   "cell_type": "markdown",
   "id": "5e17acb9-5298-42b7-b09d-dd711df1503c",
   "metadata": {},
   "source": [
    "It may happen that in some cases the number of enroled students exceeds the students population. This is due to students starting early/late school or students repeating grades.\n",
    "\n",
    "Let's check on average how much is the relative difference between the number of enroleds and the population on those cases."
   ]
  },
  {
   "cell_type": "code",
   "execution_count": 14,
   "id": "a0b9ae3b-4927-4b2c-96b4-fb934f72e817",
   "metadata": {},
   "outputs": [],
   "source": [
    "add_up = [\n",
    "    [[\"enrolment_primary_male\", \"enrolment_primary_female\"], [\"primary_male\", \"primary_female\"]],\n",
    "    [[\"enrolment_lower-secondary_male\", \"enrolment_lower-secondary_female\"], [\"lower-secondary_male\", \"lower-secondary_female\"]],\n",
    "    [[\"enrolment_upper-secondary_male\", \"enrolment_upper-secondary_female\"], [\"upper-secondary_male\", \"upper-secondary_female\"]],\n",
    "]\n",
    "\n",
    "groups = dict()\n",
    "for enr, pop in add_up:\n",
    "    tot_enr = data[enr].sum(axis=1)\n",
    "    tot_pop = data[pop].sum(axis=1)\n",
    "    perc_diff = 100 * ((tot_pop - tot_enr).abs() / ((tot_pop + tot_enr) / 2))\n",
    "    dont_add_idxs = tot_pop < tot_enr\n",
    "    \n",
    "    grade = pop[0].split(\"_\")[0] \n",
    "    groups[grade] = perc_diff[dont_add_idxs].to_numpy()"
   ]
  },
  {
   "cell_type": "code",
   "execution_count": 15,
   "id": "ef75f623-617c-4cd9-9577-8a2b358bddb8",
   "metadata": {},
   "outputs": [
    {
     "data": {
      "image/png": "[encoded data removed]",
      "text/plain": [
       "<Figure size 576x432 with 1 Axes>"
      ]
     },
     "metadata": {
      "needs_background": "light"
     },
     "output_type": "display_data"
    }
   ],
   "source": [
    "import matplotlib.pyplot as plt\n",
    "\n",
    "values = [groups[k] for k in groups.keys()]\n",
    "\n",
    "plt.figure(figsize=(8,6))\n",
    "for label, values in groups.items():\n",
    "    plt.hist(values, bins=20, alpha=0.5, label=\"%s (mean %f)\" % (label, values.mean()))\n",
    "plt.xticks(list(range(0, 100, 5)))\n",
    "plt.legend(loc=\"upper right\")\n",
    "plt.xlabel(\"Change in %\")\n",
    "plt.ylabel(\"Countries\")\n",
    "plt.show()"
   ]
  },
  {
   "cell_type": "markdown",
   "id": "3f2570e5-99ec-4ba4-af0d-2454ac9e0736",
   "metadata": {},
   "source": [
    "Taking a look at the graph we can see that the number of countries whose increase looks too high are few, while the majority only have a change which is less than $20\\%$.\n",
    "\n",
    "There's not much we can do about it, but given the use that we will do of the data, we set the population to the enroled students, giving 100% of school attendance in those cases."
   ]
  },
  {
   "cell_type": "code",
   "execution_count": 16,
   "id": "1013a9a9-c43f-48d3-b2f8-eb13dbee32f1",
   "metadata": {},
   "outputs": [],
   "source": [
    "for enr, pop in add_up:\n",
    "    tot_enr = data[enr].sum(axis=1)\n",
    "    tot_pop = data[pop].sum(axis=1)\n",
    "    perc_diff = 100 * ((tot_pop - tot_enr).abs() / ((tot_pop + tot_enr) / 2))\n",
    "    \n",
    "    change_idxs = tot_pop < tot_enr\n",
    "    for p, e in zip(pop, enr):\n",
    "        data.loc[change_idxs, p] = data.loc[change_idxs, e]"
   ]
  },
  {
   "cell_type": "markdown",
   "id": "e8080d70-b512-4fd0-9588-c7227d865dd8",
   "metadata": {},
   "source": [
    "### Export data"
   ]
  },
  {
   "cell_type": "code",
   "execution_count": 17,
   "id": "4d38e3b8-d935-480b-b27a-e04ddca0a76c",
   "metadata": {},
   "outputs": [],
   "source": [
    "data.to_csv(\"data.csv\", index=True)"
   ]
  },
  {
   "cell_type": "code",
   "execution_count": 18,
   "id": "aabcf2d9-7042-4bb0-964b-057dd756da44",
   "metadata": {},
   "outputs": [],
   "source": [
    "# children reached by media devices from https://data.unicef.org/resources/remote-learning-reachability-factsheet/\n",
    "media_reach = pd.read_csv(\"data_unesco/media_reach.csv\")\n",
    "\n",
    "media_reach = media_reach.set_index([\"education\", \"approach\"])\n",
    "media_reach = media_reach.iloc[:, :] * 1000\n",
    "\n",
    "media_reach = media_reach.transpose()\n",
    "media_reach.columns = media_reach.columns.map(\"-\".join)\n",
    "media_reach.columns = media_reach.columns.str.lower() \\\n",
    "    .str.replace(\"internet / pc\", \"internet\") \\\n",
    "    .str.replace(\"television\", \"tv\") \\\n",
    "    .str.replace(\" \", \"_\")\n",
    "\n",
    "wanted_columns = [c for c in media_reach.columns if \"pre-primary\" not in c]\n",
    "media_reach = media_reach[wanted_columns]"
   ]
  },
  {
   "cell_type": "code",
   "execution_count": 19,
   "id": "fc548df3-2797-4595-a6f2-0f0253899619",
   "metadata": {},
   "outputs": [],
   "source": [
    "media_reach.to_csv(\"media.csv\", index=True)"
   ]
  }
 ],
 "metadata": {
  "kernelspec": {
   "display_name": "Python 3",
   "language": "python",
   "name": "python3"
  },
  "language_info": {
   "codemirror_mode": {
    "name": "ipython",
    "version": 3
   },
   "file_extension": ".py",
   "mimetype": "text/x-python",
   "name": "python",
   "nbconvert_exporter": "python",
   "pygments_lexer": "ipython3",
   "version": "3.8.8"
  }
 },
 "nbformat": 4,
 "nbformat_minor": 5
}
